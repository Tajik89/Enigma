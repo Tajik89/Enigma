{
  "nbformat": 4,
  "nbformat_minor": 0,
  "metadata": {
    "colab": {
      "provenance": []
    },
    "kernelspec": {
      "name": "python3",
      "display_name": "Python 3"
    },
    "language_info": {
      "name": "python"
    }
  },
  "cells": [
    {
      "cell_type": "markdown",
      "source": [
        "**Enigma**🚀\n",
        "\n",
        "🔒Code and 🔓Decode the 🪄massage with 🎯Enigma Machine☠️\n",
        "\n",
        "The Enigma machine most use it from ☢️WWII in 1830☣️\n",
        "\n",
        "\n",
        "ENIGMA Simalator By TAKING👻\n",
        "\n",
        "READ about Enigma MACHINE [🎯Click ME🎈](https://en.wikipedia.org/wiki/Enigma_machine)"
      ],
      "metadata": {
        "id": "yrlaktDGZ1NL"
      }
    },
    {
      "cell_type": "markdown",
      "source": [
        "Project Mudles⚒️\n",
        "\n",
        "Enigma\n",
        "\n",
        "|__ rotor_generato.py🎰\n",
        "\n",
        "|___ rotor_generato_tody.enigma🚧\n",
        "\n",
        "|____ enigma_code_decode.py🤖\n"
      ],
      "metadata": {
        "id": "adCmZ57-a6oS"
      }
    },
    {
      "cell_type": "markdown",
      "source": [
        "**rotor_generator**.py☣️\n",
        "\n",
        "first U want to generato the rotor (random)🐲\n"
      ],
      "metadata": {
        "id": "nHMd6H3OpADe"
      }
    },
    {
      "cell_type": "code",
      "source": [
        "import random\n",
        "\n",
        "def random_rotor() :\n",
        "  alphabet = 'abcdefghijklmnopqrstuvwxyz'\n",
        "\n",
        "  rotor = list(alphabet)\n",
        "  random.shuffle(rotor)\n",
        "\n",
        "  return ''.join(rotor)"
      ],
      "metadata": {
        "id": "YEHMSvsOpPGk"
      },
      "execution_count": 7,
      "outputs": []
    },
    {
      "cell_type": "code",
      "source": [
        "r1, r2, r3 = random_rotor(), random_rotor(), random_rotor()\n",
        "\n",
        "with open('rotor_generato_today.enigma', 'w') as f :\n",
        "  f.write(f'{r1}\\n{r2}\\n{r3}')"
      ],
      "metadata": {
        "id": "fpy7Y1118YKy"
      },
      "execution_count": 8,
      "outputs": []
    },
    {
      "cell_type": "markdown",
      "source": [
        "**enigma_code_decode.py**🎰\n",
        "\n"
      ],
      "metadata": {
        "id": "Xgn4Uiha86q7"
      }
    },
    {
      "cell_type": "markdown",
      "source": [
        "We have *reflector* here💀☠️"
      ],
      "metadata": {
        "id": "Wa9IUoCVAmge"
      }
    },
    {
      "cell_type": "code",
      "source": [
        "alphabet = 'abcdefghijklmnopqrstuvwxyz'"
      ],
      "metadata": {
        "id": "BPXyBfSRA4lN"
      },
      "execution_count": 9,
      "outputs": []
    },
    {
      "cell_type": "code",
      "source": [
        "def reflector(c) :\n",
        "  return alphabet[len(alphabet)-alphabet.index(c)-1]"
      ],
      "metadata": {
        "id": "MlhvaLDYAsFT"
      },
      "execution_count": 10,
      "outputs": []
    },
    {
      "cell_type": "markdown",
      "source": [
        "After each code u need to rotate the rotor 1\n",
        "\n",
        "U call *rotate_rotor* to rotate it🚀🛩️"
      ],
      "metadata": {
        "id": "NnwASzqLBgyr"
      }
    },
    {
      "cell_type": "code",
      "source": [
        "def rotate_rotor() :\n",
        "  global r1, r2, r3, state\n",
        "\n",
        "  r1[1:] + r1[0]\n",
        "  if state % 26 == 0 :\n",
        "    r2[1:] + r2[0]\n",
        "  if state % (26 * 26) == 0 :\n",
        "    r3[1:] + r3[0]"
      ],
      "metadata": {
        "id": "qoYVU9sMB5yh"
      },
      "execution_count": 11,
      "outputs": []
    },
    {
      "cell_type": "markdown",
      "source": [
        "Now U can code and decode the char one by one⚒️🪄"
      ],
      "metadata": {
        "id": "GhM5NwA9B77I"
      }
    },
    {
      "cell_type": "code",
      "source": [
        "def enigma_one_char(c, r1, r2, r3) :\n",
        "   c1 = r1[alphabet.index(c)]\n",
        "   c2 = r2[alphabet.index(c1)]\n",
        "   c3 = r3[alphabet.index(c2)]\n",
        "   reflected = reflector(c3)\n",
        "   c3 = alphabet[r3.index(reflected)]\n",
        "   c2 = alphabet[r2.index(c3)]\n",
        "   c1 = alphabet[r1.index(c2)]\n",
        "   return c1"
      ],
      "metadata": {
        "id": "4vXnLkSNCHSi"
      },
      "execution_count": 12,
      "outputs": []
    },
    {
      "cell_type": "markdown",
      "source": [
        "-- Now -- U need to get rotor key🚀🎰\n",
        "\n",
        "ok! get it from 💀*today_rotor_generato.enigma*👻"
      ],
      "metadata": {
        "id": "aDoxzxRrC8zA"
      }
    },
    {
      "cell_type": "code",
      "source": [
        "def get_rotor_key() :\n",
        "  with open('rotor_generato_today.enigma', 'r') as f :\n",
        "    r1 = f.readline().strip()\n",
        "    r2 = f.readline().strip()\n",
        "    r3 = f.readline().strip()\n",
        "\n",
        "  return r1, r2, r3"
      ],
      "metadata": {
        "id": "mc2yOjNIDMRB"
      },
      "execution_count": 13,
      "outputs": []
    },
    {
      "cell_type": "markdown",
      "source": [
        "Done!✅\n",
        "\n",
        "All function U need now its writed💀🎯"
      ],
      "metadata": {
        "id": "07ZID0D4DoM0"
      }
    },
    {
      "cell_type": "code",
      "source": [
        "target = 'jzuycm'\n",
        "cipher = ''\n",
        "state = 0\n",
        "r1, r2, r3 = get_rotor_key()\n",
        "for i in target :\n",
        "  state += 1\n",
        "  cipher += enigma_one_char(i, r1, r2, r3)\n",
        "  rotate_rotor()\n",
        "\n",
        "print(cipher)"
      ],
      "metadata": {
        "colab": {
          "base_uri": "https://localhost:8080/"
        },
        "id": "FklJ7He7DvR_",
        "outputId": "6b75c98b-a6b8-47ba-f768-7727032c719e"
      },
      "execution_count": 17,
      "outputs": [
        {
          "output_type": "stream",
          "name": "stdout",
          "text": [
            "taking\n"
          ]
        }
      ]
    }
  ]
}